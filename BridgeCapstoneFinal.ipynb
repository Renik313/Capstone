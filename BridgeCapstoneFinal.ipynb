{
 "cells": [
  {
   "cell_type": "markdown",
   "metadata": {},
   "source": [
    "# Bridges Crumbling down!"
   ]
  },
  {
   "cell_type": "markdown",
   "metadata": {},
   "source": [
    "## **Executive Summary**: \n",
    "\n",
    "The goal of this project is to try and understand what factors lead up to a depreciated state. We are defining a depreciated state as the state where a bridge is in need of repairs, and should be closed down. Due to need, a bridge may be depreciated, but still in use. We processed the data from the states of Pennsylvania and Massachusetts provided by their respective Departments of Transportation to see if we could determine what factors contributed the most in the depreciation effect. We utilize dynamic modelling methods to analyze Pennsylvania's more robust features and then pare down the features so that we can make comparisons to Massachusetts less robust data set. During our comparison, despite having the exact same features we received a different score for both state this is exciting as undocumented factors may be contributing to the divergence, and it is worth further examination.\n",
    "\n",
    "## **Data Cleaning**: \n",
    "For our cleaning process, we examined both sets of data and then based off the table information guide provided by PENNDOT I converted both systems to a similar scale. For my PA exclusive model, I kept more features that I believe may have an influence on the depreciation of a bridge such as city code and average daily traffic. My score noticeably went up for PA in the MA/PA comparison model versus my original split PA model which means that my second model is more than likely underfitting and by removing features I am removing features which can be enlightening towards depreciation.\n",
    "\n",
    "## **Success Criteria**: \n",
    "I wanted to see if I could narrow down the predictors to determine whether or not a bridge which would become deficient and if there would be a substantial difference between states. I was actually hoping for a larger discrepancy, and then attempt to see why. We were able to determine influential factors, and see discrepancy depending on size so for now I'll deem it a success!\n",
    "For my model selection, I went with random forests. For the amount of features I wanted to incorporate this seemed like the best choice for incorporating all of them.\n",
    "\n",
    "## **Current Results**: \n",
    "Greatest surprise so far is that my geographical component has the largest influence on my model, followed by city code and average daily traffic. The 3rd and 4th category make quite a bit of sense to me as city budgets can determine which bridges/infrastructure gets focused on in a given year and may be ignored for a period of time. High daily traffic can also influence which bridges are more likely to fall faster. Latitude and longitude are interesting in that I didn't believe they would have as high of an influence as they ended up having, especially that it would carry over into massachusetts as well. More research necessary to determine actual effects.\n"
   ]
  },
  {
   "cell_type": "code",
   "execution_count": 1,
   "metadata": {},
   "outputs": [
    {
     "name": "stderr",
     "output_type": "stream",
     "text": [
      "/anaconda/lib/python2.7/site-packages/sklearn/cross_validation.py:44: DeprecationWarning: This module was deprecated in version 0.18 in favor of the model_selection module into which all the refactored classes and functions are moved. Also note that the interface of the new CV iterators are different from that of this module. This module will be removed in 0.20.\n",
      "  \"This module will be removed in 0.20.\", DeprecationWarning)\n"
     ]
    }
   ],
   "source": [
    "import pandas as pd\n",
    "import matplotlib.pyplot as plt\n",
    "import matplotlib.cm as cm\n",
    "import seaborn as sns\n",
    "import numpy as np\n",
    "from scipy import stats\n",
    "from sklearn import preprocessing, ensemble\n",
    "plt.style.use('ggplot')\n",
    "from sklearn.model_selection import train_test_split\n",
    "% matplotlib inline\n",
    "from xgboost import XGBClassifier\n",
    "from sklearn.ensemble import RandomForestClassifier, ExtraTreesClassifier\n",
    "rf = RandomForestClassifier()\n",
    "from sklearn.model_selection import GridSearchCV\n",
    "from sklearn.metrics import accuracy_score, confusion_matrix, classification_report, roc_auc_score, auc\n",
    "from sklearn.cross_validation import cross_val_score, StratifiedKFold"
   ]
  },
  {
   "cell_type": "code",
   "execution_count": 2,
   "metadata": {},
   "outputs": [
    {
     "name": "stderr",
     "output_type": "stream",
     "text": [
      "/anaconda/lib/python2.7/site-packages/IPython/core/interactiveshell.py:2717: DtypeWarning: Columns (5,10,19,33,34,35,42,82,85,96,115,134,146) have mixed types. Specify dtype option on import or set low_memory=False.\n",
      "  interactivity=interactivity, compiler=compiler, result=result)\n"
     ]
    }
   ],
   "source": [
    "dfpa2 = pd.read_csv('/Users/Red/Desktop/GA/Cap/Pennsylvania_Bridges.csv')\n",
    "dfm = pd.read_csv('/Users/Red/Desktop/GA/Cap/BridgesMass.csv')"
   ]
  },
  {
   "cell_type": "code",
   "execution_count": 3,
   "metadata": {
    "collapsed": true
   },
   "outputs": [],
   "source": [
    "def eda_helper(df):\n",
    "    dict_list = []\n",
    "    for col in df.columns:\n",
    "        data = df[col]\n",
    "        dict_ = {}\n",
    "        # The null count for a column. Columns with no nulls are generally more interesting\n",
    "        dict_.update({\"null_count\" : data.isnull().sum()})\n",
    "        # Counting the unique values in a column\n",
    "        # This is useful for seeing how interesting the column might be as a feature\n",
    "        dict_.update({\"unique_count\" : len(data.unique())})\n",
    "        # Finding the types of data in the column\n",
    "        # This is useful for finding out potential problems with a column having strings and ints\n",
    "        dict_.update({\"data_type\" : set([type(d).__name__ for d in data])})\n",
    "        #dict_.update({\"score\" : match[1]})\n",
    "        dict_list.append(dict_)\n",
    "    eda_df = pd.DataFrame(dict_list)\n",
    "    eda_df.index = df.columns\n",
    "    #eda_df = eda_df.sort_values(['null_count','unique_count'], ascending=[True, False])\n",
    "    return eda_df"
   ]
  },
  {
   "cell_type": "markdown",
   "metadata": {},
   "source": [
    "Here are our base data years, I chose to graph these prior to modifying the dataset to examine outliers within the years. The first thing that I see are the 0 years which we need to eliminate from our data, and the outlier years for MA and PA which are 1850 and 1930 respectively. After analyzing the depreciation rate for the older bridges, I decided to exclude them from my dataset as new materials and techniques have skewed predictions later on."
   ]
  },
  {
   "cell_type": "code",
   "execution_count": 88,
   "metadata": {},
   "outputs": [
    {
     "data": {
      "image/png": "[encoded data removed]",
      "text/plain": [
       "<matplotlib.figure.Figure at 0x11222f7d0>"
      ]
     },
     "metadata": {},
     "output_type": "display_data"
    }
   ],
   "source": [
    "pa_total_year = dfpa2.YEARBUILT.value_counts().sort_index()\n",
    "\n",
    "plt.scatter(pa_total_year.index, pa_total_year, s=12)\n",
    "plt.yscale('linear')\n",
    "plt.title('Pennsylvania Bridges Built by Year', fontsize=15)\n",
    "plt.xlabel('Year', fontsize=13)\n",
    "plt.ylabel('Number of Bridges', fontsize=13)\n",
    "plt.show()"
   ]
  },
  {
   "cell_type": "code",
   "execution_count": 87,
   "metadata": {},
   "outputs": [
    {
     "data": {
      "image/png": "[encoded data removed]",
      "text/plain": [
       "<matplotlib.figure.Figure at 0x116325810>"
      ]
     },
     "metadata": {},
     "output_type": "display_data"
    }
   ],
   "source": [
    "ma_year = dfm.Year_Built.value_counts().sort_index()\n",
    "\n",
    "plt.scatter(ma_year.index, ma_year, s=12)\n",
    "plt.yscale('linear')\n",
    "plt.title('Pennsylvania Bridges Built by Year', fontsize=15)\n",
    "plt.xlabel('Year', fontsize=13)\n",
    "plt.ylabel('Number of Bridges', fontsize=13)\n",
    "plt.show()"
   ]
  },
  {
   "cell_type": "markdown",
   "metadata": {},
   "source": [
    "I chose the following columns from the PA dataset as they were the most pertinent and most complete features available from the set. Certain features such as federal funding unfortunately had a low confirmation rate, and thus were cut.   \n",
    "\n",
    "References:                                              \n",
    "X = Latitude                                      \n",
    "Y = Longitude                                               \n",
    "CTY_CODE = City Code                                              \n",
    "ADTTOTAL = Average Daily Traffic Total                                              \n",
    "BRIDGE_ID kept only for tableau visualizations                                              \n",
    "COVERED_BRIDGE = whether a bridge is covered or not                                              \n",
    "CUSTODIAN = Who is in charge of maintaining the bridge                                               \n",
    "DECK_AREA = Bridge deck area                                               \n",
    "DECKWIDTH = width of the deck                                               \n",
    "DEPT_MAIN_MATERIAL_TYPE = Main material for the span                                               \n",
    "DEPT_MAIN_PHYSICAL_TYPE = Physical make-up of the main span of the structure                                         \n",
    "DESIGNMAIN = Design of bridge                                               \n",
    "HISTSIGN = Whether it is historically significant                                               \n",
    "LENGTH = length of bridge                                               \n",
    "MATERIALMAIN = main material of bridge                                               \n",
    "NBI_RATING = Indicates if the bridge is structurally deficient or functionally obsolete, based on the values found in condition rating and/or appraisal rating fields                                               \n",
    "STATE_LOCAL = jurisdiction of bridge                                               \n",
    "STRRATING = Structural evaluation rating                                               \n",
    "YEARBUILT = year it was built                                               \n",
    "YEARRECON = year it was reconstructed                                               \n",
    "FLOOD_INSP = indicator bridges that need to be inspected after floods                                               \n",
    "KIND_HWY = route signing prefix                                              "
   ]
  },
  {
   "cell_type": "code",
   "execution_count": 6,
   "metadata": {
    "collapsed": true
   },
   "outputs": [],
   "source": [
    "dfpa_ = dfpa2[['X','Y','CTY_CODE','ADTTOTAL','BRIDGE_ID','COVERED_BRIDGE','CUSTODIAN','DECK_AREA','DECKWIDTH', 'DEPT_MAIN_MATERIAL_TYPE'\n",
    "               , 'DEPT_MAIN_PHYSICAL_TYPE', 'DESIGNMAIN', 'HISTSIGN', 'LENGTH', 'MATERIALMAIN', \n",
    "               'NBI_RATING', 'STATE_LOCAL', 'STRRATING', 'YEARBUILT', 'YEARRECON', 'FLOOD_INSP', 'KIND_HWY']] "
   ]
  },
  {
   "cell_type": "code",
   "execution_count": 7,
   "metadata": {},
   "outputs": [
    {
     "data": {
      "text/html": [
       "<div>\n",
       "<style>\n",
       "    .dataframe thead tr:only-child th {\n",
       "        text-align: right;\n",
       "    }\n",
       "\n",
       "    .dataframe thead th {\n",
       "        text-align: left;\n",
       "    }\n",
       "\n",
       "    .dataframe tbody tr th {\n",
       "        vertical-align: top;\n",
       "    }\n",
       "</style>\n",
       "<table border=\"1\" class=\"dataframe\">\n",
       "  <thead>\n",
       "    <tr style=\"text-align: right;\">\n",
       "      <th></th>\n",
       "      <th>data_type</th>\n",
       "      <th>null_count</th>\n",
       "      <th>unique_count</th>\n",
       "    </tr>\n",
       "  </thead>\n",
       "  <tbody>\n",
       "    <tr>\n",
       "      <th>X</th>\n",
       "      <td>{float64}</td>\n",
       "      <td>0</td>\n",
       "      <td>38205</td>\n",
       "    </tr>\n",
       "    <tr>\n",
       "      <th>Y</th>\n",
       "      <td>{float64}</td>\n",
       "      <td>0</td>\n",
       "      <td>37761</td>\n",
       "    </tr>\n",
       "    <tr>\n",
       "      <th>CTY_CODE</th>\n",
       "      <td>{int64}</td>\n",
       "      <td>0</td>\n",
       "      <td>67</td>\n",
       "    </tr>\n",
       "    <tr>\n",
       "      <th>ADTTOTAL</th>\n",
       "      <td>{float64}</td>\n",
       "      <td>1194</td>\n",
       "      <td>9116</td>\n",
       "    </tr>\n",
       "    <tr>\n",
       "      <th>BRIDGE_ID</th>\n",
       "      <td>{int, str}</td>\n",
       "      <td>0</td>\n",
       "      <td>38480</td>\n",
       "    </tr>\n",
       "    <tr>\n",
       "      <th>COVERED_BRIDGE</th>\n",
       "      <td>{float64}</td>\n",
       "      <td>1412</td>\n",
       "      <td>3</td>\n",
       "    </tr>\n",
       "    <tr>\n",
       "      <th>CUSTODIAN</th>\n",
       "      <td>{float, str}</td>\n",
       "      <td>52</td>\n",
       "      <td>32</td>\n",
       "    </tr>\n",
       "    <tr>\n",
       "      <th>DECK_AREA</th>\n",
       "      <td>{float64}</td>\n",
       "      <td>0</td>\n",
       "      <td>14590</td>\n",
       "    </tr>\n",
       "    <tr>\n",
       "      <th>DECKWIDTH</th>\n",
       "      <td>{float64}</td>\n",
       "      <td>610</td>\n",
       "      <td>1096</td>\n",
       "    </tr>\n",
       "    <tr>\n",
       "      <th>DEPT_MAIN_MATERIAL_TYPE</th>\n",
       "      <td>{float64}</td>\n",
       "      <td>6</td>\n",
       "      <td>10</td>\n",
       "    </tr>\n",
       "    <tr>\n",
       "      <th>DEPT_MAIN_PHYSICAL_TYPE</th>\n",
       "      <td>{float64}</td>\n",
       "      <td>6</td>\n",
       "      <td>11</td>\n",
       "    </tr>\n",
       "    <tr>\n",
       "      <th>DESIGNMAIN</th>\n",
       "      <td>{float64}</td>\n",
       "      <td>111</td>\n",
       "      <td>25</td>\n",
       "    </tr>\n",
       "    <tr>\n",
       "      <th>HISTSIGN</th>\n",
       "      <td>{float, str}</td>\n",
       "      <td>1826</td>\n",
       "      <td>7</td>\n",
       "    </tr>\n",
       "    <tr>\n",
       "      <th>LENGTH</th>\n",
       "      <td>{float64}</td>\n",
       "      <td>275</td>\n",
       "      <td>1237</td>\n",
       "    </tr>\n",
       "    <tr>\n",
       "      <th>MATERIALMAIN</th>\n",
       "      <td>{float64}</td>\n",
       "      <td>121</td>\n",
       "      <td>11</td>\n",
       "    </tr>\n",
       "    <tr>\n",
       "      <th>NBI_RATING</th>\n",
       "      <td>{float64}</td>\n",
       "      <td>1901</td>\n",
       "      <td>4</td>\n",
       "    </tr>\n",
       "    <tr>\n",
       "      <th>STATE_LOCAL</th>\n",
       "      <td>{str}</td>\n",
       "      <td>0</td>\n",
       "      <td>2</td>\n",
       "    </tr>\n",
       "    <tr>\n",
       "      <th>STRRATING</th>\n",
       "      <td>{int, float, str}</td>\n",
       "      <td>3</td>\n",
       "      <td>20</td>\n",
       "    </tr>\n",
       "    <tr>\n",
       "      <th>YEARBUILT</th>\n",
       "      <td>{float64}</td>\n",
       "      <td>69</td>\n",
       "      <td>202</td>\n",
       "    </tr>\n",
       "    <tr>\n",
       "      <th>YEARRECON</th>\n",
       "      <td>{float64}</td>\n",
       "      <td>7370</td>\n",
       "      <td>113</td>\n",
       "    </tr>\n",
       "    <tr>\n",
       "      <th>FLOOD_INSP</th>\n",
       "      <td>{float64}</td>\n",
       "      <td>4460</td>\n",
       "      <td>3</td>\n",
       "    </tr>\n",
       "    <tr>\n",
       "      <th>KIND_HWY</th>\n",
       "      <td>{float, str}</td>\n",
       "      <td>1171</td>\n",
       "      <td>11</td>\n",
       "    </tr>\n",
       "  </tbody>\n",
       "</table>\n",
       "</div>"
      ],
      "text/plain": [
       "                                 data_type  null_count  unique_count\n",
       "X                                {float64}           0         38205\n",
       "Y                                {float64}           0         37761\n",
       "CTY_CODE                           {int64}           0            67\n",
       "ADTTOTAL                         {float64}        1194          9116\n",
       "BRIDGE_ID                       {int, str}           0         38480\n",
       "COVERED_BRIDGE                   {float64}        1412             3\n",
       "CUSTODIAN                     {float, str}          52            32\n",
       "DECK_AREA                        {float64}           0         14590\n",
       "DECKWIDTH                        {float64}         610          1096\n",
       "DEPT_MAIN_MATERIAL_TYPE          {float64}           6            10\n",
       "DEPT_MAIN_PHYSICAL_TYPE          {float64}           6            11\n",
       "DESIGNMAIN                       {float64}         111            25\n",
       "HISTSIGN                      {float, str}        1826             7\n",
       "LENGTH                           {float64}         275          1237\n",
       "MATERIALMAIN                     {float64}         121            11\n",
       "NBI_RATING                       {float64}        1901             4\n",
       "STATE_LOCAL                          {str}           0             2\n",
       "STRRATING                {int, float, str}           3            20\n",
       "YEARBUILT                        {float64}          69           202\n",
       "YEARRECON                        {float64}        7370           113\n",
       "FLOOD_INSP                       {float64}        4460             3\n",
       "KIND_HWY                      {float, str}        1171            11"
      ]
     },
     "execution_count": 7,
     "metadata": {},
     "output_type": "execute_result"
    }
   ],
   "source": [
    "eda_helper(dfpa_)"
   ]
  },
  {
   "cell_type": "code",
   "execution_count": 8,
   "metadata": {
    "collapsed": true
   },
   "outputs": [],
   "source": [
    "dfpa_ = dfpa_.dropna()"
   ]
  },
  {
   "cell_type": "markdown",
   "metadata": {},
   "source": [
    "A large amount of the data presented was in a var"
   ]
  },
  {
   "cell_type": "code",
   "execution_count": 9,
   "metadata": {},
   "outputs": [
    {
     "data": {
      "text/plain": [
       "0.0    17895\n",
       "1.0     5327\n",
       "2.0     4103\n",
       "Name: NBI_RATING, dtype: int64"
      ]
     },
     "execution_count": 9,
     "metadata": {},
     "output_type": "execute_result"
    }
   ],
   "source": [
    "dfpa_.NBI_RATING.value_counts()"
   ]
  },
  {
   "cell_type": "code",
   "execution_count": 10,
   "metadata": {
    "collapsed": true
   },
   "outputs": [],
   "source": [
    "dfpa_['HISTSIGN'] = dfpa_['HISTSIGN'].replace({'!':0, '5':0, '4':0, '3':0, '2':1})\n",
    "dfpa_['CUSTODIAN'] = dfpa_['CUSTODIAN'].replace({'XX':0})\n",
    "dfpa_['STATE_LOCAL'] = dfpa_['STATE_LOCAL'].replace({'S':1,'L':0})"
   ]
  },
  {
   "cell_type": "code",
   "execution_count": 11,
   "metadata": {
    "collapsed": true
   },
   "outputs": [],
   "source": [
    "dfpa_['NBI_RATING'] = dfpa_['NBI_RATING'].replace({2:1})"
   ]
  },
  {
   "cell_type": "code",
   "execution_count": 12,
   "metadata": {
    "collapsed": true
   },
   "outputs": [],
   "source": [
    "dfpa_=dfpa_[dfpa_.STRRATING != 'N']\n",
    "dfpa_=dfpa_[dfpa_.KIND_HWY != 'N']\n",
    "dfpa_=dfpa_[dfpa_.KIND_HWY !='!']"
   ]
  },
  {
   "cell_type": "code",
   "execution_count": 13,
   "metadata": {
    "collapsed": true
   },
   "outputs": [],
   "source": [
    "dfpa_.HISTSIGN = dfpa_.HISTSIGN.astype(float)\n",
    "dfpa_.CUSTODIAN = dfpa_.CUSTODIAN.astype(float)\n",
    "dfpa_.STRRATING = dfpa_.STRRATING.astype(float)\n",
    "dfpa_.KIND_HWY = dfpa_.KIND_HWY.astype(float)"
   ]
  },
  {
   "cell_type": "markdown",
   "metadata": {},
   "source": [
    "While not entirely relevant to bridge depreciation, I wanted to see how the model would do in regards to predicting historical significance as well."
   ]
  },
  {
   "cell_type": "code",
   "execution_count": 14,
   "metadata": {
    "collapsed": true
   },
   "outputs": [],
   "source": [
    "X = dfpa_.drop(['HISTSIGN', 'BRIDGE_ID'], axis = 1)\n",
    "y = dfpa_.HISTSIGN"
   ]
  },
  {
   "cell_type": "code",
   "execution_count": 90,
   "metadata": {
    "collapsed": true
   },
   "outputs": [],
   "source": [
    "X_train, X_test, y_train, y_test = train_test_split(X,y, train_size = 0.8, random_state = 8)"
   ]
  },
  {
   "cell_type": "code",
   "execution_count": 16,
   "metadata": {},
   "outputs": [
    {
     "data": {
      "text/plain": [
       "((21719, 20), (5430, 20), (21719,), (5430,))"
      ]
     },
     "execution_count": 16,
     "metadata": {},
     "output_type": "execute_result"
    }
   ],
   "source": [
    "X_train.shape, X_test.shape, y_train.shape, y_test.shape"
   ]
  },
  {
   "cell_type": "code",
   "execution_count": 17,
   "metadata": {},
   "outputs": [
    {
     "name": "stdout",
     "output_type": "stream",
     "text": [
      "Feature ranking:\n",
      "1. feature X (0.095628)\n",
      "2. feature Y (0.085270)\n",
      "3. feature CTY_CODE (0.075911)\n",
      "4. feature ADTTOTAL (0.075677)\n",
      "5. feature COVERED_BRIDGE (0.072900)\n",
      "6. feature CUSTODIAN (0.072787)\n",
      "7. feature DECK_AREA (0.063707)\n",
      "8. feature DECKWIDTH (0.060887)\n",
      "9. feature DEPT_MAIN_MATERIAL_TYPE (0.058608)\n",
      "10. feature DEPT_MAIN_PHYSICAL_TYPE (0.053676)\n",
      "11. feature DESIGNMAIN (0.048519)\n",
      "12. feature LENGTH (0.041483)\n",
      "13. feature MATERIALMAIN (0.041336)\n",
      "14. feature NBI_RATING (0.031374)\n",
      "15. feature STATE_LOCAL (0.028345)\n",
      "16. feature STRRATING (0.027043)\n",
      "17. feature YEARBUILT (0.020565)\n",
      "18. feature YEARRECON (0.016467)\n",
      "19. feature FLOOD_INSP (0.016162)\n",
      "20. feature KIND_HWY (0.013656)\n"
     ]
    },
    {
     "data": {
      "image/png": "[encoded data removed]",
      "text/plain": [
       "<matplotlib.figure.Figure at 0x111391f10>"
      ]
     },
     "metadata": {},
     "output_type": "display_data"
    }
   ],
   "source": [
    "from sklearn.ensemble import ExtraTreesClassifier\n",
    "plt.style.use('fivethirtyeight')\n",
    "\n",
    "def feature_importance_eda(X, y):\n",
    "    \n",
    "    '''Get an estimate of the feature importance of data'''\n",
    "    \n",
    "    # Build a forest and compute the feature importances\n",
    "    forest = ExtraTreesClassifier(n_estimators=250,\n",
    "                                  random_state=0)\n",
    "\n",
    "    forest.fit(X, y)\n",
    "    importances = forest.feature_importances_\n",
    "    std = np.std([tree.feature_importances_ for tree in forest.estimators_],\n",
    "                 axis=0)\n",
    "    indices = np.argsort(importances)[::-1]\n",
    "\n",
    "    # Print the feature ranking\n",
    "    print(\"Feature ranking:\")\n",
    "    \n",
    "    #For correlation comparison\n",
    "    data = pd.concat([X, y], axis=1)\n",
    "    d = abs(data.corr().iloc[:,-1][:-1])\n",
    "    \n",
    "    features = []\n",
    "    columns = []\n",
    "    for f, col in enumerate(X.columns):\n",
    "        print(\"%d. feature %s (%f)\" % (f + 1, col, importances[indices[f]]))\n",
    "        feature = [col, importances[indices[f]], d[col]]\n",
    "        features.append(feature)\n",
    "        columns.append(col)\n",
    "    \n",
    "    # Plot the feature importances of the forest\n",
    "    plt.figure()\n",
    "    plt.title(\"Feature importances\")\n",
    "    plt.bar([(x+0.5)*2 for x in range(X.shape[1])], importances[indices],\n",
    "            yerr=std[indices], label='Feature Importance')\n",
    "    \n",
    "    plt.bar([(x* 2) for x in range(X.shape[1])], d[indices],\n",
    "            yerr=std[indices], label='Correlation')\n",
    "    plt.rcParams.update({'font.size': 20})\n",
    "    plt.xticks([(x*2)+0.4 for x in range(X.shape[1])], columns, rotation='vertical')\n",
    "    plt.xlim([-1, (2 * X.shape[1])])\n",
    "    plt.legend()\n",
    "    plt.show()\n",
    "    return pd.DataFrame(features, columns=['Feature', 'Importance', 'Correlation'])\n",
    "\n",
    "\n",
    "#Run function\n",
    "feature_importance = feature_importance_eda(X, y)"
   ]
  },
  {
   "cell_type": "code",
   "execution_count": 18,
   "metadata": {
    "collapsed": true
   },
   "outputs": [],
   "source": [
    "def evaluate_model(model):\n",
    "    model.fit(X_train,y_train)\n",
    "    y_pred = model.predict(X_test)\n",
    "    acc = accuracy_score(y_test, y_pred) #accuracy score of model\n",
    "    con = confusion_matrix(y_test, y_pred) #make a confusion matrix\n",
    "    crep = classification_report(y_test, y_pred)  #create classifcation report\n",
    "    \n",
    "    print con\n",
    "    print crep\n",
    "    \n",
    "    return acc"
   ]
  },
  {
   "cell_type": "code",
   "execution_count": 19,
   "metadata": {},
   "outputs": [
    {
     "name": "stdout",
     "output_type": "stream",
     "text": [
      "{'min_samples_split': 2, 'n_estimators': 50, 'criterion': 'entropy', 'max_depth': 5, 'class_weight': 'balanced'}\n",
      "0.96231274467\n",
      "[[5085  261]\n",
      " [  13   71]]\n",
      "             precision    recall  f1-score   support\n",
      "\n",
      "        0.0       1.00      0.95      0.97      5346\n",
      "        1.0       0.21      0.85      0.34        84\n",
      "\n",
      "avg / total       0.99      0.95      0.96      5430\n",
      "\n",
      "0.949539594843\n",
      "RandomForestClassifier(bootstrap=True, class_weight='balanced',\n",
      "            criterion='gini', max_depth=5, max_features='auto',\n",
      "            max_leaf_nodes=None, min_impurity_split=1e-07,\n",
      "            min_samples_leaf=1, min_samples_split=2,\n",
      "            min_weight_fraction_leaf=0.0, n_estimators=300, n_jobs=1,\n",
      "            oob_score=False, random_state=None, verbose=0,\n",
      "            warm_start=False)\n"
     ]
    }
   ],
   "source": [
    "rfparams = {'n_estimators':[10, 25, 50,100, 300],\n",
    "          'criterion': ['gini', 'entropy'],\n",
    "          'max_depth': [1, 3, 5],\n",
    "          'min_samples_split': [2,5],\n",
    "          'class_weight':[None, 'balanced']}\n",
    "\n",
    "\n",
    "rfgs = GridSearchCV(rf, rfparams, n_jobs=-1,scoring = 'roc_auc', cv=10)\n",
    "rfgs.fit(X,y)\n",
    "\n",
    "print rfgs.best_params_\n",
    "print rfgs.best_score_\n",
    "print evaluate_model(rfgs)\n",
    "print rfgs.best_estimator_"
   ]
  },
  {
   "cell_type": "code",
   "execution_count": 89,
   "metadata": {
    "collapsed": true
   },
   "outputs": [],
   "source": [
    "X = dfpa_.drop(['NBI_RATING', 'BRIDGE_ID'], axis = 1)\n",
    "y = dfpa_.NBI_RATING"
   ]
  },
  {
   "cell_type": "code",
   "execution_count": 21,
   "metadata": {},
   "outputs": [
    {
     "name": "stdout",
     "output_type": "stream",
     "text": [
      "Feature ranking:\n",
      "1. feature X (0.318120)\n",
      "2. feature Y (0.070863)\n",
      "3. feature CTY_CODE (0.068589)\n",
      "4. feature ADTTOTAL (0.061052)\n",
      "5. feature COVERED_BRIDGE (0.058728)\n",
      "6. feature CUSTODIAN (0.058506)\n",
      "7. feature DECK_AREA (0.054743)\n",
      "8. feature DECKWIDTH (0.049141)\n",
      "9. feature DEPT_MAIN_MATERIAL_TYPE (0.048544)\n",
      "10. feature DEPT_MAIN_PHYSICAL_TYPE (0.039789)\n",
      "11. feature DESIGNMAIN (0.031113)\n",
      "12. feature HISTSIGN (0.030146)\n",
      "13. feature LENGTH (0.026468)\n",
      "14. feature MATERIALMAIN (0.018987)\n",
      "15. feature STATE_LOCAL (0.018120)\n",
      "16. feature STRRATING (0.014641)\n",
      "17. feature YEARBUILT (0.012231)\n",
      "18. feature YEARRECON (0.010621)\n",
      "19. feature FLOOD_INSP (0.006890)\n",
      "20. feature KIND_HWY (0.002707)\n"
     ]
    },
    {
     "data": {
      "image/png": "[encoded data removed]",
      "text/plain": [
       "<matplotlib.figure.Figure at 0x116da9b90>"
      ]
     },
     "metadata": {},
     "output_type": "display_data"
    }
   ],
   "source": [
    "feature_importance = feature_importance_eda(X,y)"
   ]
  },
  {
   "cell_type": "markdown",
   "metadata": {},
   "source": [
    "For each model in this notebook, I'll have my original score and then a roc_auc score following it"
   ]
  },
  {
   "cell_type": "code",
   "execution_count": 91,
   "metadata": {},
   "outputs": [
    {
     "name": "stdout",
     "output_type": "stream",
     "text": [
      "{'min_samples_split': 2, 'n_estimators': 300, 'criterion': 'gini', 'max_depth': 5, 'class_weight': None}\n",
      "0.906081460372\n",
      "[[2804  345]\n",
      " [ 363  970]]\n",
      "             precision    recall  f1-score   support\n",
      "\n",
      "        0.0       0.89      0.89      0.89      3149\n",
      "        1.0       0.74      0.73      0.73      1333\n",
      "\n",
      "avg / total       0.84      0.84      0.84      4482\n",
      "\n",
      "0.84203480589\n",
      "RandomForestClassifier(bootstrap=True, class_weight='balanced',\n",
      "            criterion='entropy', max_depth=5, max_features='auto',\n",
      "            max_leaf_nodes=None, min_impurity_split=1e-07,\n",
      "            min_samples_leaf=1, min_samples_split=5,\n",
      "            min_weight_fraction_leaf=0.0, n_estimators=100, n_jobs=1,\n",
      "            oob_score=False, random_state=None, verbose=0,\n",
      "            warm_start=False)\n"
     ]
    }
   ],
   "source": [
    "rfparams = {'n_estimators':[10, 25, 50,100, 300],\n",
    "          'criterion': ['gini', 'entropy'],\n",
    "          'max_depth': [1, 3, 5],\n",
    "          'min_samples_split': [2,5],\n",
    "          'class_weight':[None, 'balanced']}\n",
    "\n",
    "\n",
    "rfgs = GridSearchCV(rf, rfparams, n_jobs=-1,scoring = 'roc_auc', cv=10)\n",
    "rfgs.fit(X,y)\n",
    "\n",
    "print rfgs.best_params_\n",
    "print rfgs.best_score_\n",
    "print evaluate_model(rfgs)\n",
    "print rfgs.best_estimator_"
   ]
  },
  {
   "cell_type": "code",
   "execution_count": 23,
   "metadata": {
    "collapsed": true
   },
   "outputs": [],
   "source": [
    "#dfpa_.to_csv('PAadjusted.csv')"
   ]
  },
  {
   "cell_type": "code",
   "execution_count": 24,
   "metadata": {
    "collapsed": true
   },
   "outputs": [],
   "source": [
    "dfpa_ = dfpa_[(dfpa_.YEARBUILT >= 1930) & (dfpa_.YEARBUILT <= 2010)]"
   ]
  },
  {
   "cell_type": "code",
   "execution_count": 25,
   "metadata": {
    "collapsed": true
   },
   "outputs": [],
   "source": [
    "#dfpa_.to_csv('PAadjusted1930.csv')"
   ]
  },
  {
   "cell_type": "markdown",
   "metadata": {},
   "source": [
    "As previously stated in the appendix NBI_RATING is the depreciation score as measured by the state of Pennsylvania and will be my y value for all remaining pennsylvania models"
   ]
  },
  {
   "cell_type": "code",
   "execution_count": 26,
   "metadata": {},
   "outputs": [
    {
     "name": "stdout",
     "output_type": "stream",
     "text": [
      "Feature ranking:\n",
      "1. feature X (0.299668)\n",
      "2. feature Y (0.087700)\n",
      "3. feature CTY_CODE (0.066698)\n",
      "4. feature ADTTOTAL (0.065302)\n",
      "5. feature COVERED_BRIDGE (0.064854)\n",
      "6. feature CUSTODIAN (0.059050)\n",
      "7. feature DECK_AREA (0.053992)\n",
      "8. feature DECKWIDTH (0.053658)\n",
      "9. feature DEPT_MAIN_MATERIAL_TYPE (0.049266)\n",
      "10. feature DEPT_MAIN_PHYSICAL_TYPE (0.044239)\n",
      "11. feature DESIGNMAIN (0.031178)\n",
      "12. feature HISTSIGN (0.030858)\n",
      "13. feature LENGTH (0.019919)\n",
      "14. feature MATERIALMAIN (0.018392)\n",
      "15. feature STATE_LOCAL (0.017468)\n",
      "16. feature STRRATING (0.014425)\n",
      "17. feature YEARBUILT (0.011717)\n",
      "18. feature YEARRECON (0.009862)\n",
      "19. feature FLOOD_INSP (0.001411)\n",
      "20. feature KIND_HWY (0.000344)\n"
     ]
    },
    {
     "data": {
      "image/png": "[encoded data removed]",
      "text/plain": [
       "<matplotlib.figure.Figure at 0x112262f50>"
      ]
     },
     "metadata": {},
     "output_type": "display_data"
    }
   ],
   "source": [
    "X = dfpa_.drop(['NBI_RATING', 'BRIDGE_ID'], axis = 1)\n",
    "y = dfpa_.NBI_RATING\n",
    "feature_importance = feature_importance_eda(X,y)"
   ]
  },
  {
   "cell_type": "code",
   "execution_count": 27,
   "metadata": {},
   "outputs": [
    {
     "name": "stdout",
     "output_type": "stream",
     "text": [
      "{'min_samples_split': 5, 'n_estimators': 300, 'criterion': 'gini', 'max_depth': 5, 'class_weight': 'balanced'}\n",
      "0.959378870485\n",
      "[[5094  252]\n",
      " [  13   71]]\n",
      "             precision    recall  f1-score   support\n",
      "\n",
      "        0.0       1.00      0.95      0.97      5346\n",
      "        1.0       0.22      0.85      0.35        84\n",
      "\n",
      "avg / total       0.99      0.95      0.96      5430\n",
      "\n",
      "0.951197053407\n",
      "RandomForestClassifier(bootstrap=True, class_weight='balanced',\n",
      "            criterion='entropy', max_depth=5, max_features='auto',\n",
      "            max_leaf_nodes=None, min_impurity_split=1e-07,\n",
      "            min_samples_leaf=1, min_samples_split=2,\n",
      "            min_weight_fraction_leaf=0.0, n_estimators=300, n_jobs=1,\n",
      "            oob_score=False, random_state=None, verbose=0,\n",
      "            warm_start=False)\n"
     ]
    }
   ],
   "source": [
    "rfparams = {'n_estimators':[10, 25, 50,100, 300],\n",
    "          'criterion': ['gini', 'entropy'],\n",
    "          'max_depth': [1, 3, 5],\n",
    "          'min_samples_split': [2,5],\n",
    "          'class_weight':[None, 'balanced']}\n",
    "\n",
    "\n",
    "rfgs = GridSearchCV(rf, rfparams, n_jobs=-1,scoring = 'roc_auc', cv=10)\n",
    "rfgs.fit(X_test,y_test)\n",
    "\n",
    "print rfgs.best_params_\n",
    "print rfgs.best_score_\n",
    "print evaluate_model(rfgs)\n",
    "print rfgs.best_estimator_"
   ]
  },
  {
   "cell_type": "code",
   "execution_count": 28,
   "metadata": {
    "collapsed": true
   },
   "outputs": [],
   "source": [
    "def retest(model):\n",
    "    rtsc = cross_val_score(model, X, y, cv=StratifiedKFold(y, shuffle=True),n_jobs=-1)\n",
    "    sc = rtsc.std()\n",
    "    m = rtsc.mean()\n",
    "    return m, sc"
   ]
  },
  {
   "cell_type": "markdown",
   "metadata": {},
   "source": [
    "Retest the model and see how it compares to my previous measurement"
   ]
  },
  {
   "cell_type": "code",
   "execution_count": 29,
   "metadata": {},
   "outputs": [
    {
     "data": {
      "text/plain": [
       "(0.88933516471546392, 0.00049437885569331619)"
      ]
     },
     "execution_count": 29,
     "metadata": {},
     "output_type": "execute_result"
    }
   ],
   "source": [
    "retest(rf)"
   ]
  },
  {
   "cell_type": "code",
   "execution_count": 30,
   "metadata": {},
   "outputs": [
    {
     "data": {
      "text/plain": [
       "array([ 0.00038268,  0.00044028,  0.0001409 , ...,  0.00021499,\n",
       "        0.00022713,  0.00066283], dtype=float32)"
      ]
     },
     "execution_count": 30,
     "metadata": {},
     "output_type": "execute_result"
    }
   ],
   "source": [
    "xgb = XGBClassifier()\n",
    "xgb.fit(X_test,y_test)\n",
    "preds = xgb.predict_proba(X_test)[:,1]\n",
    "preds"
   ]
  },
  {
   "cell_type": "markdown",
   "metadata": {},
   "source": [
    "I created two more charts to depict the amount of bridges created per year for the two different states"
   ]
  },
  {
   "cell_type": "code",
   "execution_count": 31,
   "metadata": {},
   "outputs": [
    {
     "data": {
      "image/png": "[encoded data removed]",
      "text/plain": [
       "<matplotlib.figure.Figure at 0x112225a10>"
      ]
     },
     "metadata": {},
     "output_type": "display_data"
    }
   ],
   "source": [
    "pa_year = dfpa_.YEARBUILT.value_counts().sort_index()\n",
    "\n",
    "plt.scatter(pa_year.index, pa_year, s=12)\n",
    "plt.yscale('linear')\n",
    "plt.title('Pennsylvania Bridges Built by Year', fontsize=15)\n",
    "plt.xlabel('Number of Bridges', fontsize=13)\n",
    "plt.ylabel('Year', fontsize=13)\n",
    "plt.show()"
   ]
  },
  {
   "cell_type": "code",
   "execution_count": 32,
   "metadata": {
    "collapsed": true
   },
   "outputs": [],
   "source": [
    "dfma = dfm[['Latitude','Longitude','Structure_Material', 'Structure_Type', 'Town','Bridge_Owner', 'Bridge_Identification_Number__B' \n",
    "            ,'Year_Built', 'Year_Reconstructed', 'Structure_Length', 'Structurally_Deficient', 'Structure_Category']]"
   ]
  },
  {
   "cell_type": "code",
   "execution_count": 86,
   "metadata": {},
   "outputs": [
    {
     "data": {
      "image/png": "[encoded data removed]",
      "text/plain": [
       "<matplotlib.figure.Figure at 0x11632af90>"
      ]
     },
     "metadata": {},
     "output_type": "display_data"
    }
   ],
   "source": [
    "ma_year = dfma.Year_Built.value_counts().sort_index()\n",
    "\n",
    "plt.scatter(ma_year.index, ma_year, s=12)\n",
    "plt.yscale('linear')\n",
    "plt.title('Massachusetts Bridges Built by Year', fontsize=15)\n",
    "plt.xlabel('Number of Bridges', fontsize=13)\n",
    "plt.ylabel('Year', fontsize=13)\n",
    "plt.show()"
   ]
  },
  {
   "cell_type": "code",
   "execution_count": 79,
   "metadata": {
    "collapsed": true
   },
   "outputs": [],
   "source": [
    "#dfma.to_csv('MAAdjusted.csv')"
   ]
  },
  {
   "cell_type": "code",
   "execution_count": 92,
   "metadata": {},
   "outputs": [
    {
     "data": {
      "text/html": [
       "<div>\n",
       "<style>\n",
       "    .dataframe thead tr:only-child th {\n",
       "        text-align: right;\n",
       "    }\n",
       "\n",
       "    .dataframe thead th {\n",
       "        text-align: left;\n",
       "    }\n",
       "\n",
       "    .dataframe tbody tr th {\n",
       "        vertical-align: top;\n",
       "    }\n",
       "</style>\n",
       "<table border=\"1\" class=\"dataframe\">\n",
       "  <thead>\n",
       "    <tr style=\"text-align: right;\">\n",
       "      <th></th>\n",
       "      <th>data_type</th>\n",
       "      <th>null_count</th>\n",
       "      <th>unique_count</th>\n",
       "    </tr>\n",
       "  </thead>\n",
       "  <tbody>\n",
       "    <tr>\n",
       "      <th>Latitude</th>\n",
       "      <td>{float64}</td>\n",
       "      <td>0</td>\n",
       "      <td>5486</td>\n",
       "    </tr>\n",
       "    <tr>\n",
       "      <th>Longitude</th>\n",
       "      <td>{float64}</td>\n",
       "      <td>0</td>\n",
       "      <td>5485</td>\n",
       "    </tr>\n",
       "    <tr>\n",
       "      <th>Structure_Material</th>\n",
       "      <td>{float64}</td>\n",
       "      <td>0</td>\n",
       "      <td>9</td>\n",
       "    </tr>\n",
       "    <tr>\n",
       "      <th>Structure_Type</th>\n",
       "      <td>{int64}</td>\n",
       "      <td>0</td>\n",
       "      <td>20</td>\n",
       "    </tr>\n",
       "    <tr>\n",
       "      <th>Town</th>\n",
       "      <td>{str}</td>\n",
       "      <td>0</td>\n",
       "      <td>339</td>\n",
       "    </tr>\n",
       "    <tr>\n",
       "      <th>Bridge_Owner</th>\n",
       "      <td>{int64}</td>\n",
       "      <td>0</td>\n",
       "      <td>1</td>\n",
       "    </tr>\n",
       "    <tr>\n",
       "      <th>Bridge_Identification_Number__B</th>\n",
       "      <td>{str}</td>\n",
       "      <td>0</td>\n",
       "      <td>5532</td>\n",
       "    </tr>\n",
       "    <tr>\n",
       "      <th>Year_Built</th>\n",
       "      <td>{int64}</td>\n",
       "      <td>0</td>\n",
       "      <td>118</td>\n",
       "    </tr>\n",
       "    <tr>\n",
       "      <th>Year_Reconstructed</th>\n",
       "      <td>{int64}</td>\n",
       "      <td>0</td>\n",
       "      <td>95</td>\n",
       "    </tr>\n",
       "    <tr>\n",
       "      <th>Structure_Length</th>\n",
       "      <td>{float64}</td>\n",
       "      <td>0</td>\n",
       "      <td>1038</td>\n",
       "    </tr>\n",
       "    <tr>\n",
       "      <th>Structurally_Deficient</th>\n",
       "      <td>{int64}</td>\n",
       "      <td>0</td>\n",
       "      <td>2</td>\n",
       "    </tr>\n",
       "    <tr>\n",
       "      <th>Structure_Category</th>\n",
       "      <td>{int64}</td>\n",
       "      <td>0</td>\n",
       "      <td>3</td>\n",
       "    </tr>\n",
       "  </tbody>\n",
       "</table>\n",
       "</div>"
      ],
      "text/plain": [
       "                                 data_type  null_count  unique_count\n",
       "Latitude                         {float64}           0          5486\n",
       "Longitude                        {float64}           0          5485\n",
       "Structure_Material               {float64}           0             9\n",
       "Structure_Type                     {int64}           0            20\n",
       "Town                                 {str}           0           339\n",
       "Bridge_Owner                       {int64}           0             1\n",
       "Bridge_Identification_Number__B      {str}           0          5532\n",
       "Year_Built                         {int64}           0           118\n",
       "Year_Reconstructed                 {int64}           0            95\n",
       "Structure_Length                 {float64}           0          1038\n",
       "Structurally_Deficient             {int64}           0             2\n",
       "Structure_Category                 {int64}           0             3"
      ]
     },
     "execution_count": 92,
     "metadata": {},
     "output_type": "execute_result"
    }
   ],
   "source": [
    "eda_helper(dfma)"
   ]
  },
  {
   "cell_type": "code",
   "execution_count": null,
   "metadata": {
    "collapsed": true
   },
   "outputs": [],
   "source": [
    "dfma = dfma[dfma.Year_Built >= 1900]\n",
    "#setting our base year as 1900"
   ]
  },
  {
   "cell_type": "markdown",
   "metadata": {},
   "source": [
    "The following EDA was assigning all of the values to the equivalent number in the PA handbook so that the data would be consistent."
   ]
  },
  {
   "cell_type": "code",
   "execution_count": 34,
   "metadata": {
    "collapsed": true
   },
   "outputs": [],
   "source": [
    "dfma = dfma[dfma.Structurally_Deficient != 'UNKNOWN']\n",
    "#Remove all the unknowns from our dataset"
   ]
  },
  {
   "cell_type": "code",
   "execution_count": 41,
   "metadata": {
    "collapsed": true
   },
   "outputs": [],
   "source": [
    "dfma.Structurally_Deficient = dfma.Structurally_Deficient.replace({'YES':1, 'NO':0})"
   ]
  },
  {
   "cell_type": "code",
   "execution_count": 42,
   "metadata": {
    "collapsed": true
   },
   "outputs": [],
   "source": [
    "dfma.Structure_Category = dfma.Structure_Category.replace({'Bridge (NBI)': 1, 'Short Span Bridge':2, 'Culvert':3})"
   ]
  },
  {
   "cell_type": "code",
   "execution_count": 43,
   "metadata": {
    "collapsed": true
   },
   "outputs": [],
   "source": [
    "dfma = dfma[dfma.Structure_Material != '-']"
   ]
  },
  {
   "cell_type": "code",
   "execution_count": 44,
   "metadata": {
    "collapsed": true
   },
   "outputs": [],
   "source": [
    "dfma.Structure_Material = dfma.Structure_Material.replace({'Steel':1, 'Concrete':2, 'Prestressed concrete':3, 'Steel continuous':4, \n",
    "         'Masonry':5, 'Concrete continuous':6, 'Prestressed concrete continuous':7, 'Wood or Timber':8,\n",
    "                     'Aluminum, Wrought Iron, or Cast Iron':9,'Other':0})\n",
    "dfma.Structure_Material = dfma.Structure_Material.astype(float)"
   ]
  },
  {
   "cell_type": "code",
   "execution_count": 45,
   "metadata": {
    "collapsed": true
   },
   "outputs": [],
   "source": [
    "dfma.Structure_Type = dfma.Structure_Type.replace({'Stringer/Multi-beam or Girder':2, 'Culvert (includes frame culverts)':19, \n",
    "                                                   'Slab':1, 'Arch - Deck':11, 'Tee Beam':4, \n",
    "                                                   'Box Beam or Girders - Multiple':5, \n",
    "                                                   'Box Beam or Girders - Single or Spread':6, 'Frame (except frame culverts)':7,\n",
    "                                                    'Girder and Floorbeam System':3,'Other':0, '-':0,\n",
    "                                                  'Truss - Thru':10,'Segmental Box Girder':21,'Movable - Bascule':16,\n",
    "                                                   'Arch - Thru':12,'Truss - Deck':9,'Mixed types':20,\n",
    "                                                  'Movable - Swing':17,'Stayed Girder':14,'Movable - Lift':15,\n",
    "                                                   'Suspension':13,'Channel Beam':22,})"
   ]
  },
  {
   "cell_type": "code",
   "execution_count": 65,
   "metadata": {
    "collapsed": true
   },
   "outputs": [],
   "source": [
    "dfma['Bridge_Owner'] = [1 if x == 'DOT' else 0 for x in dfma.Bridge_Owner]"
   ]
  },
  {
   "cell_type": "code",
   "execution_count": 66,
   "metadata": {},
   "outputs": [
    {
     "name": "stdout",
     "output_type": "stream",
     "text": [
      "{'min_samples_split': 5, 'n_estimators': 300, 'criterion': 'entropy', 'max_depth': 5, 'class_weight': None}\n",
      "0.808981645328\n",
      "[[5085  261]\n",
      " [  12   72]]\n",
      "             precision    recall  f1-score   support\n",
      "\n",
      "        0.0       1.00      0.95      0.97      5346\n",
      "        1.0       0.22      0.86      0.35        84\n",
      "\n",
      "avg / total       0.99      0.95      0.96      5430\n",
      "\n",
      "0.949723756906\n",
      "RandomForestClassifier(bootstrap=True, class_weight='balanced',\n",
      "            criterion='entropy', max_depth=5, max_features='auto',\n",
      "            max_leaf_nodes=None, min_impurity_split=1e-07,\n",
      "            min_samples_leaf=1, min_samples_split=2,\n",
      "            min_weight_fraction_leaf=0.0, n_estimators=300, n_jobs=1,\n",
      "            oob_score=False, random_state=None, verbose=0,\n",
      "            warm_start=False)\n"
     ]
    }
   ],
   "source": [
    "Xma = dfma.drop(['Structurally_Deficient', 'Town','Bridge_Identification_Number__B'], axis = 1)\n",
    "yma = dfma.Structurally_Deficient\n",
    "rfparams = {'n_estimators':[10, 25, 50,100, 300],\n",
    "          'criterion': ['gini', 'entropy'],\n",
    "          'max_depth': [1, 3, 5],\n",
    "          'min_samples_split': [2,5],\n",
    "          'class_weight':[None, 'balanced']}\n",
    "\n",
    "\n",
    "rfgs = GridSearchCV(rf, rfparams, n_jobs=-1,scoring = 'roc_auc', cv=10)\n",
    "rfgs.fit(Xma,yma)\n",
    "\n",
    "print rfgs.best_params_\n",
    "print rfgs.best_score_\n",
    "print evaluate_model(rfgs)\n",
    "print rfgs.best_estimator_"
   ]
  },
  {
   "cell_type": "code",
   "execution_count": 67,
   "metadata": {},
   "outputs": [
    {
     "name": "stdout",
     "output_type": "stream",
     "text": [
      "Feature ranking:\n",
      "1. feature Latitude (0.212305)\n",
      "2. feature Longitude (0.205816)\n",
      "3. feature Structure_Material (0.202536)\n",
      "4. feature Structure_Type (0.188531)\n",
      "5. feature Bridge_Owner (0.061426)\n",
      "6. feature Year_Built (0.058293)\n",
      "7. feature Year_Reconstructed (0.050578)\n",
      "8. feature Structure_Length (0.020515)\n",
      "9. feature Structure_Category (0.000000)\n"
     ]
    },
    {
     "data": {
      "image/png": "[encoded data removed]",
      "text/plain": [
       "<matplotlib.figure.Figure at 0x116e72a50>"
      ]
     },
     "metadata": {},
     "output_type": "display_data"
    }
   ],
   "source": [
    "feature_importance = feature_importance_eda(Xma, yma)"
   ]
  },
  {
   "cell_type": "code",
   "execution_count": 68,
   "metadata": {},
   "outputs": [
    {
     "name": "stdout",
     "output_type": "stream",
     "text": [
      "{'min_samples_split': 5, 'n_estimators': 25, 'criterion': 'gini', 'max_depth': 5, 'class_weight': None}\n",
      "0.90708604483\n",
      "[[5344    2]\n",
      " [  72   12]]\n",
      "             precision    recall  f1-score   support\n",
      "\n",
      "        0.0       0.99      1.00      0.99      5346\n",
      "        1.0       0.86      0.14      0.24        84\n",
      "\n",
      "avg / total       0.98      0.99      0.98      5430\n",
      "\n",
      "0.986372007366\n",
      "RandomForestClassifier(bootstrap=True, class_weight=None, criterion='gini',\n",
      "            max_depth=5, max_features='auto', max_leaf_nodes=None,\n",
      "            min_impurity_split=1e-07, min_samples_leaf=1,\n",
      "            min_samples_split=2, min_weight_fraction_leaf=0.0,\n",
      "            n_estimators=25, n_jobs=1, oob_score=False, random_state=None,\n",
      "            verbose=0, warm_start=False)\n"
     ]
    }
   ],
   "source": [
    "Xma = dfma.drop(['Structurally_Deficient', 'Town','Bridge_Identification_Number__B'], axis = 1)\n",
    "yma = dfma.Structurally_Deficient\n",
    "rfparams = {'n_estimators':[10, 25, 50,100, 300],\n",
    "          'criterion': ['gini', 'entropy'],\n",
    "          'max_depth': [1, 3, 5],\n",
    "          'min_samples_split': [2,5],\n",
    "          'class_weight':[None, 'balanced']}\n",
    "\n",
    "\n",
    "rfgs = GridSearchCV(rf, rfparams, n_jobs=-1, cv=10)\n",
    "rfgs.fit(Xma,yma)\n",
    "\n",
    "print rfgs.best_params_\n",
    "print rfgs.best_score_\n",
    "print evaluate_model(rfgs)\n",
    "print rfgs.best_estimator_"
   ]
  },
  {
   "cell_type": "code",
   "execution_count": 69,
   "metadata": {},
   "outputs": [
    {
     "data": {
      "text/plain": [
       "array([[ 0.97072315,  0.02927685],\n",
       "       [ 0.92072861,  0.07927139],\n",
       "       [ 0.92072861,  0.07927139],\n",
       "       ..., \n",
       "       [ 0.98126728,  0.01873272],\n",
       "       [ 0.9775037 ,  0.0224963 ],\n",
       "       [ 0.97665832,  0.02334168]])"
      ]
     },
     "execution_count": 69,
     "metadata": {},
     "output_type": "execute_result"
    }
   ],
   "source": [
    "from sklearn.model_selection import cross_val_predict\n",
    "proba = cross_val_predict(rfgs, Xma, yma, cv=3, method='predict_proba')\n",
    "proba"
   ]
  },
  {
   "cell_type": "code",
   "execution_count": 70,
   "metadata": {
    "collapsed": true
   },
   "outputs": [],
   "source": [
    "dfpa = dfpa_[['X','Y','BRIDGE_ID','DEPT_MAIN_MATERIAL_TYPE'\n",
    "               , 'DESIGNMAIN', 'LENGTH', 'MATERIALMAIN', \n",
    "               'NBI_RATING', 'STATE_LOCAL', 'STRRATING', 'YEARBUILT', 'YEARRECON']] "
   ]
  },
  {
   "cell_type": "code",
   "execution_count": 71,
   "metadata": {},
   "outputs": [
    {
     "data": {
      "text/html": [
       "<div>\n",
       "<style>\n",
       "    .dataframe thead tr:only-child th {\n",
       "        text-align: right;\n",
       "    }\n",
       "\n",
       "    .dataframe thead th {\n",
       "        text-align: left;\n",
       "    }\n",
       "\n",
       "    .dataframe tbody tr th {\n",
       "        vertical-align: top;\n",
       "    }\n",
       "</style>\n",
       "<table border=\"1\" class=\"dataframe\">\n",
       "  <thead>\n",
       "    <tr style=\"text-align: right;\">\n",
       "      <th></th>\n",
       "      <th>data_type</th>\n",
       "      <th>null_count</th>\n",
       "      <th>unique_count</th>\n",
       "    </tr>\n",
       "  </thead>\n",
       "  <tbody>\n",
       "    <tr>\n",
       "      <th>X</th>\n",
       "      <td>{float64}</td>\n",
       "      <td>0</td>\n",
       "      <td>22384</td>\n",
       "    </tr>\n",
       "    <tr>\n",
       "      <th>Y</th>\n",
       "      <td>{float64}</td>\n",
       "      <td>0</td>\n",
       "      <td>22298</td>\n",
       "    </tr>\n",
       "    <tr>\n",
       "      <th>BRIDGE_ID</th>\n",
       "      <td>{int, str}</td>\n",
       "      <td>0</td>\n",
       "      <td>22410</td>\n",
       "    </tr>\n",
       "    <tr>\n",
       "      <th>DEPT_MAIN_MATERIAL_TYPE</th>\n",
       "      <td>{float64}</td>\n",
       "      <td>0</td>\n",
       "      <td>9</td>\n",
       "    </tr>\n",
       "    <tr>\n",
       "      <th>DESIGNMAIN</th>\n",
       "      <td>{float64}</td>\n",
       "      <td>0</td>\n",
       "      <td>17</td>\n",
       "    </tr>\n",
       "    <tr>\n",
       "      <th>LENGTH</th>\n",
       "      <td>{float64}</td>\n",
       "      <td>0</td>\n",
       "      <td>972</td>\n",
       "    </tr>\n",
       "    <tr>\n",
       "      <th>MATERIALMAIN</th>\n",
       "      <td>{float64}</td>\n",
       "      <td>0</td>\n",
       "      <td>10</td>\n",
       "    </tr>\n",
       "    <tr>\n",
       "      <th>NBI_RATING</th>\n",
       "      <td>{float64}</td>\n",
       "      <td>0</td>\n",
       "      <td>2</td>\n",
       "    </tr>\n",
       "    <tr>\n",
       "      <th>STATE_LOCAL</th>\n",
       "      <td>{int64}</td>\n",
       "      <td>0</td>\n",
       "      <td>2</td>\n",
       "    </tr>\n",
       "    <tr>\n",
       "      <th>STRRATING</th>\n",
       "      <td>{float64}</td>\n",
       "      <td>0</td>\n",
       "      <td>9</td>\n",
       "    </tr>\n",
       "    <tr>\n",
       "      <th>YEARBUILT</th>\n",
       "      <td>{float64}</td>\n",
       "      <td>0</td>\n",
       "      <td>81</td>\n",
       "    </tr>\n",
       "    <tr>\n",
       "      <th>YEARRECON</th>\n",
       "      <td>{float64}</td>\n",
       "      <td>0</td>\n",
       "      <td>86</td>\n",
       "    </tr>\n",
       "  </tbody>\n",
       "</table>\n",
       "</div>"
      ],
      "text/plain": [
       "                          data_type  null_count  unique_count\n",
       "X                         {float64}           0         22384\n",
       "Y                         {float64}           0         22298\n",
       "BRIDGE_ID                {int, str}           0         22410\n",
       "DEPT_MAIN_MATERIAL_TYPE   {float64}           0             9\n",
       "DESIGNMAIN                {float64}           0            17\n",
       "LENGTH                    {float64}           0           972\n",
       "MATERIALMAIN              {float64}           0            10\n",
       "NBI_RATING                {float64}           0             2\n",
       "STATE_LOCAL                 {int64}           0             2\n",
       "STRRATING                 {float64}           0             9\n",
       "YEARBUILT                 {float64}           0            81\n",
       "YEARRECON                 {float64}           0            86"
      ]
     },
     "execution_count": 71,
     "metadata": {},
     "output_type": "execute_result"
    }
   ],
   "source": [
    "eda_helper(dfpa)"
   ]
  },
  {
   "cell_type": "code",
   "execution_count": 93,
   "metadata": {
    "collapsed": true
   },
   "outputs": [],
   "source": [
    "Xpa = dfpa.drop(['NBI_RATING','BRIDGE_ID'], axis = 1)\n",
    "ypa = dfpa.NBI_RATING"
   ]
  },
  {
   "cell_type": "code",
   "execution_count": 94,
   "metadata": {},
   "outputs": [
    {
     "name": "stdout",
     "output_type": "stream",
     "text": [
      "Feature ranking:\n",
      "1. feature X (0.346691)\n",
      "2. feature Y (0.130008)\n",
      "3. feature DEPT_MAIN_MATERIAL_TYPE (0.124604)\n",
      "4. feature DESIGNMAIN (0.115061)\n",
      "5. feature LENGTH (0.106130)\n",
      "6. feature MATERIALMAIN (0.062548)\n",
      "7. feature STATE_LOCAL (0.046212)\n",
      "8. feature STRRATING (0.026795)\n",
      "9. feature YEARBUILT (0.025692)\n",
      "10. feature YEARRECON (0.016257)\n"
     ]
    },
    {
     "data": {
      "image/png": "[encoded data removed]",
      "text/plain": [
       "<matplotlib.figure.Figure at 0x116304950>"
      ]
     },
     "metadata": {},
     "output_type": "display_data"
    }
   ],
   "source": [
    "feature_importance = feature_importance_eda(Xpa, ypa)"
   ]
  },
  {
   "cell_type": "code",
   "execution_count": 74,
   "metadata": {},
   "outputs": [
    {
     "name": "stdout",
     "output_type": "stream",
     "text": [
      "{'min_samples_split': 2, 'n_estimators': 300, 'criterion': 'entropy', 'max_depth': 5, 'class_weight': None}\n",
      "0.905882651679\n",
      "[[5080  266]\n",
      " [  13   71]]\n",
      "             precision    recall  f1-score   support\n",
      "\n",
      "        0.0       1.00      0.95      0.97      5346\n",
      "        1.0       0.21      0.85      0.34        84\n",
      "\n",
      "avg / total       0.99      0.95      0.96      5430\n",
      "\n",
      "0.94861878453\n",
      "RandomForestClassifier(bootstrap=True, class_weight='balanced',\n",
      "            criterion='entropy', max_depth=5, max_features='auto',\n",
      "            max_leaf_nodes=None, min_impurity_split=1e-07,\n",
      "            min_samples_leaf=1, min_samples_split=5,\n",
      "            min_weight_fraction_leaf=0.0, n_estimators=300, n_jobs=1,\n",
      "            oob_score=False, random_state=None, verbose=0,\n",
      "            warm_start=False)\n"
     ]
    }
   ],
   "source": [
    "rfparams = {'n_estimators':[10, 25, 50,100, 300],\n",
    "          'criterion': ['gini', 'entropy'],\n",
    "          'max_depth': [1, 3, 5],\n",
    "          'min_samples_split': [2,5],\n",
    "          'class_weight':[None, 'balanced']}\n",
    "\n",
    "\n",
    "rfgs = GridSearchCV(rf, rfparams, n_jobs=-1,scoring = 'roc_auc', cv=10)\n",
    "rfgs.fit(Xpa,ypa)\n",
    "\n",
    "print rfgs.best_params_\n",
    "print rfgs.best_score_\n",
    "print evaluate_model(rfgs)\n",
    "print rfgs.best_estimator_"
   ]
  },
  {
   "cell_type": "code",
   "execution_count": 75,
   "metadata": {},
   "outputs": [
    {
     "name": "stdout",
     "output_type": "stream",
     "text": [
      "{'min_samples_split': 2, 'n_estimators': 100, 'criterion': 'gini', 'max_depth': 5, 'class_weight': None}\n",
      "0.859928603302\n",
      "[[5342    4]\n",
      " [  69   15]]\n",
      "             precision    recall  f1-score   support\n",
      "\n",
      "        0.0       0.99      1.00      0.99      5346\n",
      "        1.0       0.79      0.18      0.29        84\n",
      "\n",
      "avg / total       0.98      0.99      0.98      5430\n",
      "\n",
      "0.986556169429\n",
      "RandomForestClassifier(bootstrap=True, class_weight=None, criterion='gini',\n",
      "            max_depth=5, max_features='auto', max_leaf_nodes=None,\n",
      "            min_impurity_split=1e-07, min_samples_leaf=1,\n",
      "            min_samples_split=2, min_weight_fraction_leaf=0.0,\n",
      "            n_estimators=25, n_jobs=1, oob_score=False, random_state=None,\n",
      "            verbose=0, warm_start=False)\n"
     ]
    }
   ],
   "source": [
    "rfparams = {'n_estimators':[10, 25, 50,100, 300],\n",
    "          'criterion': ['gini', 'entropy'],\n",
    "          'max_depth': [1, 3, 5],\n",
    "          'min_samples_split': [2,5],\n",
    "          'class_weight':[None, 'balanced']}\n",
    "\n",
    "\n",
    "rfgs = GridSearchCV(rf, rfparams, n_jobs=-1, cv=10)\n",
    "rfgs.fit(Xpa,ypa)\n",
    "\n",
    "print rfgs.best_params_\n",
    "print rfgs.best_score_\n",
    "print evaluate_model(rfgs)\n",
    "print rfgs.best_estimator_"
   ]
  }
 ],
 "metadata": {
  "kernelspec": {
   "display_name": "Python 2",
   "language": "python",
   "name": "python2"
  },
  "language_info": {
   "codemirror_mode": {
    "name": "ipython",
    "version": 2
   },
   "file_extension": ".py",
   "mimetype": "text/x-python",
   "name": "python",
   "nbconvert_exporter": "python",
   "pygments_lexer": "ipython2",
   "version": "2.7.13"
  }
 },
 "nbformat": 4,
 "nbformat_minor": 2
}
